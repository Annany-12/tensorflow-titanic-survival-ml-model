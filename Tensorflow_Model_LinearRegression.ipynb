{
  "nbformat": 4,
  "nbformat_minor": 0,
  "metadata": {
    "colab": {
      "provenance": [],
      "authorship_tag": "ABX9TyPgUSVzpreX6GPWpYgSfPaP",
      "include_colab_link": true
    },
    "kernelspec": {
      "name": "python3",
      "display_name": "Python 3"
    },
    "language_info": {
      "name": "python"
    }
  },
  "cells": [
    {
      "cell_type": "markdown",
      "metadata": {
        "id": "view-in-github",
        "colab_type": "text"
      },
      "source": [
        "<a href=\"https://colab.research.google.com/github/Annany-12/tensorflow-titanic-survival-ml-model/blob/main/Tensorflow_Model_LinearRegression.ipynb\" target=\"_parent\"><img src=\"https://colab.research.google.com/assets/colab-badge.svg\" alt=\"Open In Colab\"/></a>"
      ]
    },
    {
      "cell_type": "code",
      "source": [
        "import sklearn\n",
        "import tensorflow as tf\n",
        "x = sklearn.__version__\n",
        "y = tf.__version__\n",
        "print(f\"sklearn version: {x}\")\n",
        "print(f\"Tensorflow version: {y}\")"
      ],
      "metadata": {
        "colab": {
          "base_uri": "https://localhost:8080/"
        },
        "id": "E5UFDzpLgIZY",
        "outputId": "c7d5d1e1-ec2e-48d3-a015-fb5984afd15f"
      },
      "execution_count": 2,
      "outputs": [
        {
          "output_type": "stream",
          "name": "stdout",
          "text": [
            "sklearn version: 1.2.2\n",
            "Tensorflow version: 2.15.0\n"
          ]
        }
      ]
    },
    {
      "cell_type": "markdown",
      "source": [
        "## Importing Necessary Libraries\n",
        "---\n",
        "\n"
      ],
      "metadata": {
        "id": "nWi7CUQZ2x7d"
      }
    },
    {
      "cell_type": "code",
      "source": [
        "from __future__ import absolute_import, division, print_function, unicode_literals\n",
        "\n",
        "# absolute_import: Always imports standard library, not a custom module.\n",
        "# division: Changes division operator / to always perform true division (floating-point division)\n",
        "# print_function: Of no use, but we can use print statment as function. (Still don't know the use of it)\n",
        "\n",
        "import numpy as np\n",
        "import pandas as pd\n",
        "import matplotlib.pyplot as plt\n",
        "from IPython.display import clear_output\n",
        "from six.moves import urllib\n",
        "\n",
        "import tensorflow.compat.v2.feature_column as fc # Needed to make a Linear-Regression Model.\n",
        "\n",
        "import tensorflow as tf"
      ],
      "metadata": {
        "id": "NLF3oDIo1NUd"
      },
      "execution_count": 3,
      "outputs": []
    },
    {
      "cell_type": "markdown",
      "source": [
        "## Importing Dataset"
      ],
      "metadata": {
        "id": "KR1i6bnBqSNv"
      }
    },
    {
      "cell_type": "code",
      "source": [
        "df_train = pd.read_csv('https://storage.googleapis.com/tf-datasets/titanic/train.csv') # Training Dataset\n",
        "df_test = pd.read_csv('https://storage.googleapis.com/tf-datasets/titanic/eval.csv') # Testing Dataset\n",
        "\n",
        "y_train = df_train.pop('survived') # We grabbed the survived column from the training dataframe, removed it from the dataset and assigned it the 'y_train' variable.\n",
        "y_test = df_test.pop('survived') # We grabbed the survived column from the testing dataframe, removed it from the dataset and assigned it the 'y_test' variable."
      ],
      "metadata": {
        "id": "WYWV3cFSqQfv"
      },
      "execution_count": 4,
      "outputs": []
    },
    {
      "cell_type": "code",
      "source": [
        "print(\"Head of the Training Dataframe: \")\n",
        "print(df_train.head()) # This shows us the first 5 entries of the dataset. Useful for crosschecking without opening the file.\n",
        "print(\"===\"*10)\n",
        "\n",
        "print(\"Head od the Testing Dataframe: \")\n",
        "print(df_test.head())\n",
        "print(\"===\"*10)\n",
        "\n",
        "print(\"Head of the y_train 'Survived' Column: \")\n",
        "print(y_train.head())\n",
        "print(\"===\"*10)\n",
        "\n",
        "print(\"Head of the y_test 'Survived' Column: \")\n",
        "print(y_test.head())\n",
        "print(\"===\"*10)"
      ],
      "metadata": {
        "colab": {
          "base_uri": "https://localhost:8080/"
        },
        "id": "JcIPcVU0ruhG",
        "outputId": "9a84e4c1-334b-483f-e35d-6f5cf764579d"
      },
      "execution_count": 5,
      "outputs": [
        {
          "output_type": "stream",
          "name": "stdout",
          "text": [
            "Head of the Training Dataframe: \n",
            "      sex   age  n_siblings_spouses  parch     fare  class     deck  \\\n",
            "0    male  22.0                   1      0   7.2500  Third  unknown   \n",
            "1  female  38.0                   1      0  71.2833  First        C   \n",
            "2  female  26.0                   0      0   7.9250  Third  unknown   \n",
            "3  female  35.0                   1      0  53.1000  First        C   \n",
            "4    male  28.0                   0      0   8.4583  Third  unknown   \n",
            "\n",
            "   embark_town alone  \n",
            "0  Southampton     n  \n",
            "1    Cherbourg     n  \n",
            "2  Southampton     y  \n",
            "3  Southampton     n  \n",
            "4   Queenstown     y  \n",
            "==============================\n",
            "Head od the Testing Dataframe: \n",
            "      sex   age  n_siblings_spouses  parch     fare   class     deck  \\\n",
            "0    male  35.0                   0      0   8.0500   Third  unknown   \n",
            "1    male  54.0                   0      0  51.8625   First        E   \n",
            "2  female  58.0                   0      0  26.5500   First        C   \n",
            "3  female  55.0                   0      0  16.0000  Second  unknown   \n",
            "4    male  34.0                   0      0  13.0000  Second        D   \n",
            "\n",
            "   embark_town alone  \n",
            "0  Southampton     y  \n",
            "1  Southampton     y  \n",
            "2  Southampton     y  \n",
            "3  Southampton     y  \n",
            "4  Southampton     y  \n",
            "==============================\n",
            "Head of the y_train 'Survived' Column: \n",
            "0    0\n",
            "1    1\n",
            "2    1\n",
            "3    1\n",
            "4    0\n",
            "Name: survived, dtype: int64\n",
            "==============================\n",
            "Head of the y_test 'Survived' Column: \n",
            "0    0\n",
            "1    0\n",
            "2    1\n",
            "3    1\n",
            "4    1\n",
            "Name: survived, dtype: int64\n",
            "==============================\n"
          ]
        }
      ]
    },
    {
      "cell_type": "code",
      "source": [
        "# Additional Information about the dataframe like count, mean, max_value, min_value etc.\n",
        "print(\"Description of the Training Dataframe: \")\n",
        "df_train.describe()"
      ],
      "metadata": {
        "id": "bEGOMeOdssNy",
        "colab": {
          "base_uri": "https://localhost:8080/",
          "height": 317
        },
        "outputId": "ad5060e2-748b-4dad-c28f-eeef0c5b3bd5"
      },
      "execution_count": 6,
      "outputs": [
        {
          "output_type": "stream",
          "name": "stdout",
          "text": [
            "Description of the Training Dataframe: \n"
          ]
        },
        {
          "output_type": "execute_result",
          "data": {
            "text/plain": [
              "              age  n_siblings_spouses       parch        fare\n",
              "count  627.000000          627.000000  627.000000  627.000000\n",
              "mean    29.631308            0.545455    0.379585   34.385399\n",
              "std     12.511818            1.151090    0.792999   54.597730\n",
              "min      0.750000            0.000000    0.000000    0.000000\n",
              "25%     23.000000            0.000000    0.000000    7.895800\n",
              "50%     28.000000            0.000000    0.000000   15.045800\n",
              "75%     35.000000            1.000000    0.000000   31.387500\n",
              "max     80.000000            8.000000    5.000000  512.329200"
            ],
            "text/html": [
              "\n",
              "  <div id=\"df-8a034457-8bec-4b74-b48d-11b9ceb5f89e\" class=\"colab-df-container\">\n",
              "    <div>\n",
              "<style scoped>\n",
              "    .dataframe tbody tr th:only-of-type {\n",
              "        vertical-align: middle;\n",
              "    }\n",
              "\n",
              "    .dataframe tbody tr th {\n",
              "        vertical-align: top;\n",
              "    }\n",
              "\n",
              "    .dataframe thead th {\n",
              "        text-align: right;\n",
              "    }\n",
              "</style>\n",
              "<table border=\"1\" class=\"dataframe\">\n",
              "  <thead>\n",
              "    <tr style=\"text-align: right;\">\n",
              "      <th></th>\n",
              "      <th>age</th>\n",
              "      <th>n_siblings_spouses</th>\n",
              "      <th>parch</th>\n",
              "      <th>fare</th>\n",
              "    </tr>\n",
              "  </thead>\n",
              "  <tbody>\n",
              "    <tr>\n",
              "      <th>count</th>\n",
              "      <td>627.000000</td>\n",
              "      <td>627.000000</td>\n",
              "      <td>627.000000</td>\n",
              "      <td>627.000000</td>\n",
              "    </tr>\n",
              "    <tr>\n",
              "      <th>mean</th>\n",
              "      <td>29.631308</td>\n",
              "      <td>0.545455</td>\n",
              "      <td>0.379585</td>\n",
              "      <td>34.385399</td>\n",
              "    </tr>\n",
              "    <tr>\n",
              "      <th>std</th>\n",
              "      <td>12.511818</td>\n",
              "      <td>1.151090</td>\n",
              "      <td>0.792999</td>\n",
              "      <td>54.597730</td>\n",
              "    </tr>\n",
              "    <tr>\n",
              "      <th>min</th>\n",
              "      <td>0.750000</td>\n",
              "      <td>0.000000</td>\n",
              "      <td>0.000000</td>\n",
              "      <td>0.000000</td>\n",
              "    </tr>\n",
              "    <tr>\n",
              "      <th>25%</th>\n",
              "      <td>23.000000</td>\n",
              "      <td>0.000000</td>\n",
              "      <td>0.000000</td>\n",
              "      <td>7.895800</td>\n",
              "    </tr>\n",
              "    <tr>\n",
              "      <th>50%</th>\n",
              "      <td>28.000000</td>\n",
              "      <td>0.000000</td>\n",
              "      <td>0.000000</td>\n",
              "      <td>15.045800</td>\n",
              "    </tr>\n",
              "    <tr>\n",
              "      <th>75%</th>\n",
              "      <td>35.000000</td>\n",
              "      <td>1.000000</td>\n",
              "      <td>0.000000</td>\n",
              "      <td>31.387500</td>\n",
              "    </tr>\n",
              "    <tr>\n",
              "      <th>max</th>\n",
              "      <td>80.000000</td>\n",
              "      <td>8.000000</td>\n",
              "      <td>5.000000</td>\n",
              "      <td>512.329200</td>\n",
              "    </tr>\n",
              "  </tbody>\n",
              "</table>\n",
              "</div>\n",
              "    <div class=\"colab-df-buttons\">\n",
              "\n",
              "  <div class=\"colab-df-container\">\n",
              "    <button class=\"colab-df-convert\" onclick=\"convertToInteractive('df-8a034457-8bec-4b74-b48d-11b9ceb5f89e')\"\n",
              "            title=\"Convert this dataframe to an interactive table.\"\n",
              "            style=\"display:none;\">\n",
              "\n",
              "  <svg xmlns=\"http://www.w3.org/2000/svg\" height=\"24px\" viewBox=\"0 -960 960 960\">\n",
              "    <path d=\"M120-120v-720h720v720H120Zm60-500h600v-160H180v160Zm220 220h160v-160H400v160Zm0 220h160v-160H400v160ZM180-400h160v-160H180v160Zm440 0h160v-160H620v160ZM180-180h160v-160H180v160Zm440 0h160v-160H620v160Z\"/>\n",
              "  </svg>\n",
              "    </button>\n",
              "\n",
              "  <style>\n",
              "    .colab-df-container {\n",
              "      display:flex;\n",
              "      gap: 12px;\n",
              "    }\n",
              "\n",
              "    .colab-df-convert {\n",
              "      background-color: #E8F0FE;\n",
              "      border: none;\n",
              "      border-radius: 50%;\n",
              "      cursor: pointer;\n",
              "      display: none;\n",
              "      fill: #1967D2;\n",
              "      height: 32px;\n",
              "      padding: 0 0 0 0;\n",
              "      width: 32px;\n",
              "    }\n",
              "\n",
              "    .colab-df-convert:hover {\n",
              "      background-color: #E2EBFA;\n",
              "      box-shadow: 0px 1px 2px rgba(60, 64, 67, 0.3), 0px 1px 3px 1px rgba(60, 64, 67, 0.15);\n",
              "      fill: #174EA6;\n",
              "    }\n",
              "\n",
              "    .colab-df-buttons div {\n",
              "      margin-bottom: 4px;\n",
              "    }\n",
              "\n",
              "    [theme=dark] .colab-df-convert {\n",
              "      background-color: #3B4455;\n",
              "      fill: #D2E3FC;\n",
              "    }\n",
              "\n",
              "    [theme=dark] .colab-df-convert:hover {\n",
              "      background-color: #434B5C;\n",
              "      box-shadow: 0px 1px 3px 1px rgba(0, 0, 0, 0.15);\n",
              "      filter: drop-shadow(0px 1px 2px rgba(0, 0, 0, 0.3));\n",
              "      fill: #FFFFFF;\n",
              "    }\n",
              "  </style>\n",
              "\n",
              "    <script>\n",
              "      const buttonEl =\n",
              "        document.querySelector('#df-8a034457-8bec-4b74-b48d-11b9ceb5f89e button.colab-df-convert');\n",
              "      buttonEl.style.display =\n",
              "        google.colab.kernel.accessAllowed ? 'block' : 'none';\n",
              "\n",
              "      async function convertToInteractive(key) {\n",
              "        const element = document.querySelector('#df-8a034457-8bec-4b74-b48d-11b9ceb5f89e');\n",
              "        const dataTable =\n",
              "          await google.colab.kernel.invokeFunction('convertToInteractive',\n",
              "                                                    [key], {});\n",
              "        if (!dataTable) return;\n",
              "\n",
              "        const docLinkHtml = 'Like what you see? Visit the ' +\n",
              "          '<a target=\"_blank\" href=https://colab.research.google.com/notebooks/data_table.ipynb>data table notebook</a>'\n",
              "          + ' to learn more about interactive tables.';\n",
              "        element.innerHTML = '';\n",
              "        dataTable['output_type'] = 'display_data';\n",
              "        await google.colab.output.renderOutput(dataTable, element);\n",
              "        const docLink = document.createElement('div');\n",
              "        docLink.innerHTML = docLinkHtml;\n",
              "        element.appendChild(docLink);\n",
              "      }\n",
              "    </script>\n",
              "  </div>\n",
              "\n",
              "\n",
              "<div id=\"df-8bccc7cb-f97b-463c-b98f-d32178ee6e89\">\n",
              "  <button class=\"colab-df-quickchart\" onclick=\"quickchart('df-8bccc7cb-f97b-463c-b98f-d32178ee6e89')\"\n",
              "            title=\"Suggest charts\"\n",
              "            style=\"display:none;\">\n",
              "\n",
              "<svg xmlns=\"http://www.w3.org/2000/svg\" height=\"24px\"viewBox=\"0 0 24 24\"\n",
              "     width=\"24px\">\n",
              "    <g>\n",
              "        <path d=\"M19 3H5c-1.1 0-2 .9-2 2v14c0 1.1.9 2 2 2h14c1.1 0 2-.9 2-2V5c0-1.1-.9-2-2-2zM9 17H7v-7h2v7zm4 0h-2V7h2v10zm4 0h-2v-4h2v4z\"/>\n",
              "    </g>\n",
              "</svg>\n",
              "  </button>\n",
              "\n",
              "<style>\n",
              "  .colab-df-quickchart {\n",
              "      --bg-color: #E8F0FE;\n",
              "      --fill-color: #1967D2;\n",
              "      --hover-bg-color: #E2EBFA;\n",
              "      --hover-fill-color: #174EA6;\n",
              "      --disabled-fill-color: #AAA;\n",
              "      --disabled-bg-color: #DDD;\n",
              "  }\n",
              "\n",
              "  [theme=dark] .colab-df-quickchart {\n",
              "      --bg-color: #3B4455;\n",
              "      --fill-color: #D2E3FC;\n",
              "      --hover-bg-color: #434B5C;\n",
              "      --hover-fill-color: #FFFFFF;\n",
              "      --disabled-bg-color: #3B4455;\n",
              "      --disabled-fill-color: #666;\n",
              "  }\n",
              "\n",
              "  .colab-df-quickchart {\n",
              "    background-color: var(--bg-color);\n",
              "    border: none;\n",
              "    border-radius: 50%;\n",
              "    cursor: pointer;\n",
              "    display: none;\n",
              "    fill: var(--fill-color);\n",
              "    height: 32px;\n",
              "    padding: 0;\n",
              "    width: 32px;\n",
              "  }\n",
              "\n",
              "  .colab-df-quickchart:hover {\n",
              "    background-color: var(--hover-bg-color);\n",
              "    box-shadow: 0 1px 2px rgba(60, 64, 67, 0.3), 0 1px 3px 1px rgba(60, 64, 67, 0.15);\n",
              "    fill: var(--button-hover-fill-color);\n",
              "  }\n",
              "\n",
              "  .colab-df-quickchart-complete:disabled,\n",
              "  .colab-df-quickchart-complete:disabled:hover {\n",
              "    background-color: var(--disabled-bg-color);\n",
              "    fill: var(--disabled-fill-color);\n",
              "    box-shadow: none;\n",
              "  }\n",
              "\n",
              "  .colab-df-spinner {\n",
              "    border: 2px solid var(--fill-color);\n",
              "    border-color: transparent;\n",
              "    border-bottom-color: var(--fill-color);\n",
              "    animation:\n",
              "      spin 1s steps(1) infinite;\n",
              "  }\n",
              "\n",
              "  @keyframes spin {\n",
              "    0% {\n",
              "      border-color: transparent;\n",
              "      border-bottom-color: var(--fill-color);\n",
              "      border-left-color: var(--fill-color);\n",
              "    }\n",
              "    20% {\n",
              "      border-color: transparent;\n",
              "      border-left-color: var(--fill-color);\n",
              "      border-top-color: var(--fill-color);\n",
              "    }\n",
              "    30% {\n",
              "      border-color: transparent;\n",
              "      border-left-color: var(--fill-color);\n",
              "      border-top-color: var(--fill-color);\n",
              "      border-right-color: var(--fill-color);\n",
              "    }\n",
              "    40% {\n",
              "      border-color: transparent;\n",
              "      border-right-color: var(--fill-color);\n",
              "      border-top-color: var(--fill-color);\n",
              "    }\n",
              "    60% {\n",
              "      border-color: transparent;\n",
              "      border-right-color: var(--fill-color);\n",
              "    }\n",
              "    80% {\n",
              "      border-color: transparent;\n",
              "      border-right-color: var(--fill-color);\n",
              "      border-bottom-color: var(--fill-color);\n",
              "    }\n",
              "    90% {\n",
              "      border-color: transparent;\n",
              "      border-bottom-color: var(--fill-color);\n",
              "    }\n",
              "  }\n",
              "</style>\n",
              "\n",
              "  <script>\n",
              "    async function quickchart(key) {\n",
              "      const quickchartButtonEl =\n",
              "        document.querySelector('#' + key + ' button');\n",
              "      quickchartButtonEl.disabled = true;  // To prevent multiple clicks.\n",
              "      quickchartButtonEl.classList.add('colab-df-spinner');\n",
              "      try {\n",
              "        const charts = await google.colab.kernel.invokeFunction(\n",
              "            'suggestCharts', [key], {});\n",
              "      } catch (error) {\n",
              "        console.error('Error during call to suggestCharts:', error);\n",
              "      }\n",
              "      quickchartButtonEl.classList.remove('colab-df-spinner');\n",
              "      quickchartButtonEl.classList.add('colab-df-quickchart-complete');\n",
              "    }\n",
              "    (() => {\n",
              "      let quickchartButtonEl =\n",
              "        document.querySelector('#df-8bccc7cb-f97b-463c-b98f-d32178ee6e89 button');\n",
              "      quickchartButtonEl.style.display =\n",
              "        google.colab.kernel.accessAllowed ? 'block' : 'none';\n",
              "    })();\n",
              "  </script>\n",
              "</div>\n",
              "\n",
              "    </div>\n",
              "  </div>\n"
            ],
            "application/vnd.google.colaboratory.intrinsic+json": {
              "type": "dataframe",
              "summary": "{\n  \"name\": \"df_train\",\n  \"rows\": 8,\n  \"fields\": [\n    {\n      \"column\": \"age\",\n      \"properties\": {\n        \"dtype\": \"number\",\n        \"std\": 212.388612096364,\n        \"min\": 0.75,\n        \"max\": 627.0,\n        \"num_unique_values\": 8,\n        \"samples\": [\n          29.631307814992027,\n          28.0,\n          627.0\n        ],\n        \"semantic_type\": \"\",\n        \"description\": \"\"\n      }\n    },\n    {\n      \"column\": \"n_siblings_spouses\",\n      \"properties\": {\n        \"dtype\": \"number\",\n        \"std\": 221.15395808171547,\n        \"min\": 0.0,\n        \"max\": 627.0,\n        \"num_unique_values\": 6,\n        \"samples\": [\n          627.0,\n          0.5454545454545454,\n          8.0\n        ],\n        \"semantic_type\": \"\",\n        \"description\": \"\"\n      }\n    },\n    {\n      \"column\": \"parch\",\n      \"properties\": {\n        \"dtype\": \"number\",\n        \"std\": 221.37277310526898,\n        \"min\": 0.0,\n        \"max\": 627.0,\n        \"num_unique_values\": 5,\n        \"samples\": [\n          0.379585326953748,\n          5.0,\n          0.7929992125432798\n        ],\n        \"semantic_type\": \"\",\n        \"description\": \"\"\n      }\n    },\n    {\n      \"column\": \"fare\",\n      \"properties\": {\n        \"dtype\": \"number\",\n        \"std\": 255.06336536251808,\n        \"min\": 0.0,\n        \"max\": 627.0,\n        \"num_unique_values\": 8,\n        \"samples\": [\n          34.38539856459331,\n          15.0458,\n          627.0\n        ],\n        \"semantic_type\": \"\",\n        \"description\": \"\"\n      }\n    }\n  ]\n}"
            }
          },
          "metadata": {},
          "execution_count": 6
        }
      ]
    },
    {
      "cell_type": "code",
      "source": [
        "print(\"Description of the Testing Dataframe: \")\n",
        "df_test.describe()"
      ],
      "metadata": {
        "colab": {
          "base_uri": "https://localhost:8080/",
          "height": 317
        },
        "id": "oLW4Vg-DvttQ",
        "outputId": "962d733d-5ca5-45d8-c6d0-b37f6dd4d435"
      },
      "execution_count": 7,
      "outputs": [
        {
          "output_type": "stream",
          "name": "stdout",
          "text": [
            "Description of the Testing Dataframe: \n"
          ]
        },
        {
          "output_type": "execute_result",
          "data": {
            "text/plain": [
              "              age  n_siblings_spouses       parch        fare\n",
              "count  264.000000          264.000000  264.000000  264.000000\n",
              "mean    28.720985            0.469697    0.386364   27.023880\n",
              "std     14.157538            0.978393    0.837775   34.973108\n",
              "min      0.420000            0.000000    0.000000    0.000000\n",
              "25%     21.000000            0.000000    0.000000    7.925000\n",
              "50%     28.000000            0.000000    0.000000   13.250000\n",
              "75%     35.250000            1.000000    0.000000   27.900000\n",
              "max     74.000000            8.000000    6.000000  263.000000"
            ],
            "text/html": [
              "\n",
              "  <div id=\"df-129ea112-760f-4da2-a464-8a5e354ce244\" class=\"colab-df-container\">\n",
              "    <div>\n",
              "<style scoped>\n",
              "    .dataframe tbody tr th:only-of-type {\n",
              "        vertical-align: middle;\n",
              "    }\n",
              "\n",
              "    .dataframe tbody tr th {\n",
              "        vertical-align: top;\n",
              "    }\n",
              "\n",
              "    .dataframe thead th {\n",
              "        text-align: right;\n",
              "    }\n",
              "</style>\n",
              "<table border=\"1\" class=\"dataframe\">\n",
              "  <thead>\n",
              "    <tr style=\"text-align: right;\">\n",
              "      <th></th>\n",
              "      <th>age</th>\n",
              "      <th>n_siblings_spouses</th>\n",
              "      <th>parch</th>\n",
              "      <th>fare</th>\n",
              "    </tr>\n",
              "  </thead>\n",
              "  <tbody>\n",
              "    <tr>\n",
              "      <th>count</th>\n",
              "      <td>264.000000</td>\n",
              "      <td>264.000000</td>\n",
              "      <td>264.000000</td>\n",
              "      <td>264.000000</td>\n",
              "    </tr>\n",
              "    <tr>\n",
              "      <th>mean</th>\n",
              "      <td>28.720985</td>\n",
              "      <td>0.469697</td>\n",
              "      <td>0.386364</td>\n",
              "      <td>27.023880</td>\n",
              "    </tr>\n",
              "    <tr>\n",
              "      <th>std</th>\n",
              "      <td>14.157538</td>\n",
              "      <td>0.978393</td>\n",
              "      <td>0.837775</td>\n",
              "      <td>34.973108</td>\n",
              "    </tr>\n",
              "    <tr>\n",
              "      <th>min</th>\n",
              "      <td>0.420000</td>\n",
              "      <td>0.000000</td>\n",
              "      <td>0.000000</td>\n",
              "      <td>0.000000</td>\n",
              "    </tr>\n",
              "    <tr>\n",
              "      <th>25%</th>\n",
              "      <td>21.000000</td>\n",
              "      <td>0.000000</td>\n",
              "      <td>0.000000</td>\n",
              "      <td>7.925000</td>\n",
              "    </tr>\n",
              "    <tr>\n",
              "      <th>50%</th>\n",
              "      <td>28.000000</td>\n",
              "      <td>0.000000</td>\n",
              "      <td>0.000000</td>\n",
              "      <td>13.250000</td>\n",
              "    </tr>\n",
              "    <tr>\n",
              "      <th>75%</th>\n",
              "      <td>35.250000</td>\n",
              "      <td>1.000000</td>\n",
              "      <td>0.000000</td>\n",
              "      <td>27.900000</td>\n",
              "    </tr>\n",
              "    <tr>\n",
              "      <th>max</th>\n",
              "      <td>74.000000</td>\n",
              "      <td>8.000000</td>\n",
              "      <td>6.000000</td>\n",
              "      <td>263.000000</td>\n",
              "    </tr>\n",
              "  </tbody>\n",
              "</table>\n",
              "</div>\n",
              "    <div class=\"colab-df-buttons\">\n",
              "\n",
              "  <div class=\"colab-df-container\">\n",
              "    <button class=\"colab-df-convert\" onclick=\"convertToInteractive('df-129ea112-760f-4da2-a464-8a5e354ce244')\"\n",
              "            title=\"Convert this dataframe to an interactive table.\"\n",
              "            style=\"display:none;\">\n",
              "\n",
              "  <svg xmlns=\"http://www.w3.org/2000/svg\" height=\"24px\" viewBox=\"0 -960 960 960\">\n",
              "    <path d=\"M120-120v-720h720v720H120Zm60-500h600v-160H180v160Zm220 220h160v-160H400v160Zm0 220h160v-160H400v160ZM180-400h160v-160H180v160Zm440 0h160v-160H620v160ZM180-180h160v-160H180v160Zm440 0h160v-160H620v160Z\"/>\n",
              "  </svg>\n",
              "    </button>\n",
              "\n",
              "  <style>\n",
              "    .colab-df-container {\n",
              "      display:flex;\n",
              "      gap: 12px;\n",
              "    }\n",
              "\n",
              "    .colab-df-convert {\n",
              "      background-color: #E8F0FE;\n",
              "      border: none;\n",
              "      border-radius: 50%;\n",
              "      cursor: pointer;\n",
              "      display: none;\n",
              "      fill: #1967D2;\n",
              "      height: 32px;\n",
              "      padding: 0 0 0 0;\n",
              "      width: 32px;\n",
              "    }\n",
              "\n",
              "    .colab-df-convert:hover {\n",
              "      background-color: #E2EBFA;\n",
              "      box-shadow: 0px 1px 2px rgba(60, 64, 67, 0.3), 0px 1px 3px 1px rgba(60, 64, 67, 0.15);\n",
              "      fill: #174EA6;\n",
              "    }\n",
              "\n",
              "    .colab-df-buttons div {\n",
              "      margin-bottom: 4px;\n",
              "    }\n",
              "\n",
              "    [theme=dark] .colab-df-convert {\n",
              "      background-color: #3B4455;\n",
              "      fill: #D2E3FC;\n",
              "    }\n",
              "\n",
              "    [theme=dark] .colab-df-convert:hover {\n",
              "      background-color: #434B5C;\n",
              "      box-shadow: 0px 1px 3px 1px rgba(0, 0, 0, 0.15);\n",
              "      filter: drop-shadow(0px 1px 2px rgba(0, 0, 0, 0.3));\n",
              "      fill: #FFFFFF;\n",
              "    }\n",
              "  </style>\n",
              "\n",
              "    <script>\n",
              "      const buttonEl =\n",
              "        document.querySelector('#df-129ea112-760f-4da2-a464-8a5e354ce244 button.colab-df-convert');\n",
              "      buttonEl.style.display =\n",
              "        google.colab.kernel.accessAllowed ? 'block' : 'none';\n",
              "\n",
              "      async function convertToInteractive(key) {\n",
              "        const element = document.querySelector('#df-129ea112-760f-4da2-a464-8a5e354ce244');\n",
              "        const dataTable =\n",
              "          await google.colab.kernel.invokeFunction('convertToInteractive',\n",
              "                                                    [key], {});\n",
              "        if (!dataTable) return;\n",
              "\n",
              "        const docLinkHtml = 'Like what you see? Visit the ' +\n",
              "          '<a target=\"_blank\" href=https://colab.research.google.com/notebooks/data_table.ipynb>data table notebook</a>'\n",
              "          + ' to learn more about interactive tables.';\n",
              "        element.innerHTML = '';\n",
              "        dataTable['output_type'] = 'display_data';\n",
              "        await google.colab.output.renderOutput(dataTable, element);\n",
              "        const docLink = document.createElement('div');\n",
              "        docLink.innerHTML = docLinkHtml;\n",
              "        element.appendChild(docLink);\n",
              "      }\n",
              "    </script>\n",
              "  </div>\n",
              "\n",
              "\n",
              "<div id=\"df-6a2c1358-b093-4659-95b2-f9e07a731577\">\n",
              "  <button class=\"colab-df-quickchart\" onclick=\"quickchart('df-6a2c1358-b093-4659-95b2-f9e07a731577')\"\n",
              "            title=\"Suggest charts\"\n",
              "            style=\"display:none;\">\n",
              "\n",
              "<svg xmlns=\"http://www.w3.org/2000/svg\" height=\"24px\"viewBox=\"0 0 24 24\"\n",
              "     width=\"24px\">\n",
              "    <g>\n",
              "        <path d=\"M19 3H5c-1.1 0-2 .9-2 2v14c0 1.1.9 2 2 2h14c1.1 0 2-.9 2-2V5c0-1.1-.9-2-2-2zM9 17H7v-7h2v7zm4 0h-2V7h2v10zm4 0h-2v-4h2v4z\"/>\n",
              "    </g>\n",
              "</svg>\n",
              "  </button>\n",
              "\n",
              "<style>\n",
              "  .colab-df-quickchart {\n",
              "      --bg-color: #E8F0FE;\n",
              "      --fill-color: #1967D2;\n",
              "      --hover-bg-color: #E2EBFA;\n",
              "      --hover-fill-color: #174EA6;\n",
              "      --disabled-fill-color: #AAA;\n",
              "      --disabled-bg-color: #DDD;\n",
              "  }\n",
              "\n",
              "  [theme=dark] .colab-df-quickchart {\n",
              "      --bg-color: #3B4455;\n",
              "      --fill-color: #D2E3FC;\n",
              "      --hover-bg-color: #434B5C;\n",
              "      --hover-fill-color: #FFFFFF;\n",
              "      --disabled-bg-color: #3B4455;\n",
              "      --disabled-fill-color: #666;\n",
              "  }\n",
              "\n",
              "  .colab-df-quickchart {\n",
              "    background-color: var(--bg-color);\n",
              "    border: none;\n",
              "    border-radius: 50%;\n",
              "    cursor: pointer;\n",
              "    display: none;\n",
              "    fill: var(--fill-color);\n",
              "    height: 32px;\n",
              "    padding: 0;\n",
              "    width: 32px;\n",
              "  }\n",
              "\n",
              "  .colab-df-quickchart:hover {\n",
              "    background-color: var(--hover-bg-color);\n",
              "    box-shadow: 0 1px 2px rgba(60, 64, 67, 0.3), 0 1px 3px 1px rgba(60, 64, 67, 0.15);\n",
              "    fill: var(--button-hover-fill-color);\n",
              "  }\n",
              "\n",
              "  .colab-df-quickchart-complete:disabled,\n",
              "  .colab-df-quickchart-complete:disabled:hover {\n",
              "    background-color: var(--disabled-bg-color);\n",
              "    fill: var(--disabled-fill-color);\n",
              "    box-shadow: none;\n",
              "  }\n",
              "\n",
              "  .colab-df-spinner {\n",
              "    border: 2px solid var(--fill-color);\n",
              "    border-color: transparent;\n",
              "    border-bottom-color: var(--fill-color);\n",
              "    animation:\n",
              "      spin 1s steps(1) infinite;\n",
              "  }\n",
              "\n",
              "  @keyframes spin {\n",
              "    0% {\n",
              "      border-color: transparent;\n",
              "      border-bottom-color: var(--fill-color);\n",
              "      border-left-color: var(--fill-color);\n",
              "    }\n",
              "    20% {\n",
              "      border-color: transparent;\n",
              "      border-left-color: var(--fill-color);\n",
              "      border-top-color: var(--fill-color);\n",
              "    }\n",
              "    30% {\n",
              "      border-color: transparent;\n",
              "      border-left-color: var(--fill-color);\n",
              "      border-top-color: var(--fill-color);\n",
              "      border-right-color: var(--fill-color);\n",
              "    }\n",
              "    40% {\n",
              "      border-color: transparent;\n",
              "      border-right-color: var(--fill-color);\n",
              "      border-top-color: var(--fill-color);\n",
              "    }\n",
              "    60% {\n",
              "      border-color: transparent;\n",
              "      border-right-color: var(--fill-color);\n",
              "    }\n",
              "    80% {\n",
              "      border-color: transparent;\n",
              "      border-right-color: var(--fill-color);\n",
              "      border-bottom-color: var(--fill-color);\n",
              "    }\n",
              "    90% {\n",
              "      border-color: transparent;\n",
              "      border-bottom-color: var(--fill-color);\n",
              "    }\n",
              "  }\n",
              "</style>\n",
              "\n",
              "  <script>\n",
              "    async function quickchart(key) {\n",
              "      const quickchartButtonEl =\n",
              "        document.querySelector('#' + key + ' button');\n",
              "      quickchartButtonEl.disabled = true;  // To prevent multiple clicks.\n",
              "      quickchartButtonEl.classList.add('colab-df-spinner');\n",
              "      try {\n",
              "        const charts = await google.colab.kernel.invokeFunction(\n",
              "            'suggestCharts', [key], {});\n",
              "      } catch (error) {\n",
              "        console.error('Error during call to suggestCharts:', error);\n",
              "      }\n",
              "      quickchartButtonEl.classList.remove('colab-df-spinner');\n",
              "      quickchartButtonEl.classList.add('colab-df-quickchart-complete');\n",
              "    }\n",
              "    (() => {\n",
              "      let quickchartButtonEl =\n",
              "        document.querySelector('#df-6a2c1358-b093-4659-95b2-f9e07a731577 button');\n",
              "      quickchartButtonEl.style.display =\n",
              "        google.colab.kernel.accessAllowed ? 'block' : 'none';\n",
              "    })();\n",
              "  </script>\n",
              "</div>\n",
              "\n",
              "    </div>\n",
              "  </div>\n"
            ],
            "application/vnd.google.colaboratory.intrinsic+json": {
              "type": "dataframe",
              "summary": "{\n  \"name\": \"df_test\",\n  \"rows\": 8,\n  \"fields\": [\n    {\n      \"column\": \"age\",\n      \"properties\": {\n        \"dtype\": \"number\",\n        \"std\": 85.83467609844922,\n        \"min\": 0.42,\n        \"max\": 264.0,\n        \"num_unique_values\": 8,\n        \"samples\": [\n          28.72098484848485,\n          28.0,\n          264.0\n        ],\n        \"semantic_type\": \"\",\n        \"description\": \"\"\n      }\n    },\n    {\n      \"column\": \"n_siblings_spouses\",\n      \"properties\": {\n        \"dtype\": \"number\",\n        \"std\": 92.84930848089101,\n        \"min\": 0.0,\n        \"max\": 264.0,\n        \"num_unique_values\": 6,\n        \"samples\": [\n          264.0,\n          0.4696969696969697,\n          8.0\n        ],\n        \"semantic_type\": \"\",\n        \"description\": \"\"\n      }\n    },\n    {\n      \"column\": \"parch\",\n      \"properties\": {\n        \"dtype\": \"number\",\n        \"std\": 92.99580212205873,\n        \"min\": 0.0,\n        \"max\": 264.0,\n        \"num_unique_values\": 5,\n        \"samples\": [\n          0.38636363636363635,\n          6.0,\n          0.837774775515561\n        ],\n        \"semantic_type\": \"\",\n        \"description\": \"\"\n      }\n    },\n    {\n      \"column\": \"fare\",\n      \"properties\": {\n        \"dtype\": \"number\",\n        \"std\": 113.98195579185047,\n        \"min\": 0.0,\n        \"max\": 264.0,\n        \"num_unique_values\": 8,\n        \"samples\": [\n          27.023880303030307,\n          13.25,\n          264.0\n        ],\n        \"semantic_type\": \"\",\n        \"description\": \"\"\n      }\n    }\n  ]\n}"
            }
          },
          "metadata": {},
          "execution_count": 7
        }
      ]
    },
    {
      "cell_type": "markdown",
      "source": [
        "## Plotting Graphs For Additional insights regarding the Dataset (always not necessary)"
      ],
      "metadata": {
        "id": "m3iwsGFXxORy"
      }
    },
    {
      "cell_type": "markdown",
      "source": [
        "#### Histogram Chart for Age distribution:"
      ],
      "metadata": {
        "id": "UVgIBVwbxzQa"
      }
    },
    {
      "cell_type": "code",
      "source": [
        "df_train.age.hist(bins=20)"
      ],
      "metadata": {
        "colab": {
          "base_uri": "https://localhost:8080/",
          "height": 447
        },
        "id": "cP9vMlBwxaK_",
        "outputId": "6ba6f54c-86e5-4c14-e281-23972e07aa33"
      },
      "execution_count": 8,
      "outputs": [
        {
          "output_type": "execute_result",
          "data": {
            "text/plain": [
              "<Axes: >"
            ]
          },
          "metadata": {},
          "execution_count": 8
        },
        {
          "output_type": "display_data",
          "data": {
            "text/plain": [
              "<Figure size 640x480 with 1 Axes>"
            ],
            "image/png": "[encoded data removed]"
          },
          "metadata": {}
        }
      ]
    },
    {
      "cell_type": "markdown",
      "source": [
        "#### Plot for the Gender distribution of passangers:"
      ],
      "metadata": {
        "id": "V6Lfti5bx6C4"
      }
    },
    {
      "cell_type": "code",
      "source": [
        "df_train.sex.value_counts().plot(kind='barh')"
      ],
      "metadata": {
        "colab": {
          "base_uri": "https://localhost:8080/",
          "height": 447
        },
        "id": "Lf36dy3oxeEv",
        "outputId": "d1199491-a288-40c8-b4e4-67bb56118e44"
      },
      "execution_count": 9,
      "outputs": [
        {
          "output_type": "execute_result",
          "data": {
            "text/plain": [
              "<Axes: ylabel='sex'>"
            ]
          },
          "metadata": {},
          "execution_count": 9
        },
        {
          "output_type": "display_data",
          "data": {
            "text/plain": [
              "<Figure size 640x480 with 1 Axes>"
            ],
            "image/png": "[encoded data removed]"
          },
          "metadata": {}
        }
      ]
    },
    {
      "cell_type": "markdown",
      "source": [
        "#### Plot for the 'seat-type' (classes) acquired by passangers:"
      ],
      "metadata": {
        "id": "mx1A3XnUyb9L"
      }
    },
    {
      "cell_type": "code",
      "source": [
        "df_train['class'].value_counts().plot(kind='bar')"
      ],
      "metadata": {
        "colab": {
          "base_uri": "https://localhost:8080/",
          "height": 503
        },
        "id": "uW4lxC5ixfam",
        "outputId": "11f34cf2-0005-4274-f1d0-9146dc33f895"
      },
      "execution_count": 10,
      "outputs": [
        {
          "output_type": "execute_result",
          "data": {
            "text/plain": [
              "<Axes: xlabel='class'>"
            ]
          },
          "metadata": {},
          "execution_count": 10
        },
        {
          "output_type": "display_data",
          "data": {
            "text/plain": [
              "<Figure size 640x480 with 1 Axes>"
            ],
            "image/png": "[encoded data removed]"
          },
          "metadata": {}
        }
      ]
    },
    {
      "cell_type": "markdown",
      "source": [
        "#### A combined graph showing the survival rate according to genders:"
      ],
      "metadata": {
        "id": "NdMde-rBypPa"
      }
    },
    {
      "cell_type": "code",
      "source": [
        "pd.concat([df_train, y_train], axis=1).groupby('sex').survived.mean().plot(kind='barh').set_xlabel('% survive')"
      ],
      "metadata": {
        "colab": {
          "base_uri": "https://localhost:8080/",
          "height": 466
        },
        "id": "faahgpSgxg2j",
        "outputId": "35ea6587-ef77-44c9-cb89-91aca20374a7"
      },
      "execution_count": 11,
      "outputs": [
        {
          "output_type": "execute_result",
          "data": {
            "text/plain": [
              "Text(0.5, 0, '% survive')"
            ]
          },
          "metadata": {},
          "execution_count": 11
        },
        {
          "output_type": "display_data",
          "data": {
            "text/plain": [
              "<Figure size 640x480 with 1 Axes>"
            ],
            "image/png": "[encoded data removed]"
          },
          "metadata": {}
        }
      ]
    },
    {
      "cell_type": "markdown",
      "source": [
        "After analyzing the above graphs and information we can conclude that:\n",
        "\n",
        "\n",
        "* Majority Passangers are in their 20's or 30's.\n",
        "* Majority of Passangers are Male.\n",
        "* Majority Passangers preferred 'Third Class'.\n",
        "* Females have a much higher chance of Survival.\n",
        "\n"
      ],
      "metadata": {
        "id": "XAy47FGyy0My"
      }
    },
    {
      "cell_type": "markdown",
      "source": [
        "\n",
        "\n",
        "---\n",
        "\n"
      ],
      "metadata": {
        "id": "cdvQ4vqi4Ul4"
      }
    },
    {
      "cell_type": "markdown",
      "source": [
        "## Preparing the Dataset:"
      ],
      "metadata": {
        "id": "84JQevR90hp9"
      }
    },
    {
      "cell_type": "markdown",
      "source": [
        "Categorical data is not just data that is not in integer format. It is data that represents categories or groups which do not have a numerical value in terms of measurement or quantity. They can be represented by strings, numbers, or symbols, but the numbers do not have a mathematical meaning in terms of magnitude or order.\n",
        "<br>\n",
        "<br>\n",
        "Example:\n",
        "\n",
        "            sex   age  n_siblings_spouses  parch     fare  class      deck\n",
        "      0    male  22.0                   1      0   7.2500  Third   unknown\n",
        "      1  female  38.0                   1      0  71.2833  First         C   \n",
        "      2  female  26.0                   0      0   7.9250  Third   unknown\n",
        "      3  female  35.0                   1      0  53.1000  Second        C\n",
        "\n",
        "* In the above table we can see that the column 'sex' does not have any 'integer' classification, rather have 'string' classification.\n",
        "* Now the problem is, our model cannot diffrentiate between different 'strings'.\n",
        "* Therefore, we have to convert that 'string' into an integer format.\n",
        "\n",
        "<br>\n",
        "\n",
        "For Example: We can encode:\n",
        "* ***male = 1*** and ***female = 0***. In the 'sex' column.\n",
        "* ***First = 100*** and ***Second = 200*** and ***Third = 300***. In the 'class' column.\n",
        "\n",
        "\n",
        "So the table now can be classifed like this:\n",
        "\n",
        "            sex   age  n_siblings_spouses  parch     fare  class     deck\n",
        "      0       1  22.0                   1      0   7.2500  300    unknown\n",
        "      1       0  38.0                   1      0  71.2833  100          C   \n",
        "      2       0  26.0                   0      0   7.9250  300    unknown\n",
        "      3       0  35.0                   1      0  53.1000  200          C\n",
        "\n",
        "<br>\n",
        "\n",
        "**Why Encode Categorical Data?**\n",
        "\n",
        "Machine learning models require numerical input. They cannot process categorical data in the form of strings directly. Therefore, we convert categorical data into a numerical format, a process known as encoding.\n"
      ],
      "metadata": {
        "id": "wv8uvpe400rF"
      }
    },
    {
      "cell_type": "markdown",
      "source": [
        "### Encoding Catagorical Data:"
      ],
      "metadata": {
        "id": "sY1yFomZ0w_N"
      }
    },
    {
      "cell_type": "code",
      "source": [
        "# Diffrentiating between Categorical and Numerical Data from the Dataset:\n",
        "CATAGORICAL_COLUMNS = ['sex', 'n_siblings_spouses', 'parch', 'class', 'deck', 'embark_town', 'alone']\n",
        "NUMERIC_COLUMNS = ['age', 'fare']"
      ],
      "metadata": {
        "id": "afUQ1l3dy54l"
      },
      "execution_count": 12,
      "outputs": []
    },
    {
      "cell_type": "code",
      "source": [
        "feature_columns = [] # Feature columns in machine learning serve as a bridge between raw data and the model or estimator. They define how raw input data should be transformed and used by the model.\n",
        "\n",
        "for feature_name in CATAGORICAL_COLUMNS:\n",
        "  vocabulary = df_train[feature_name].unique()  # get a list of all unique values from given column (CATAGORICAL_COLUMN in our case)\n",
        "  feature_columns.append(tf.feature_column.categorical_column_with_vocabulary_list(feature_name, vocabulary))\n",
        "\n",
        "for feature_name in NUMERIC_COLUMNS:\n",
        "  feature_columns.append(tf.feature_column.numeric_column(feature_name, dtype=tf.float32))\n",
        "\n",
        "print(feature_columns)"
      ],
      "metadata": {
        "id": "b2T62hVg688o",
        "colab": {
          "base_uri": "https://localhost:8080/"
        },
        "outputId": "45d74b23-31d3-46e1-cdf4-51db32e017b1"
      },
      "execution_count": 14,
      "outputs": [
        {
          "output_type": "stream",
          "name": "stderr",
          "text": [
            "WARNING:tensorflow:From <ipython-input-14-123539c67a16>:5: categorical_column_with_vocabulary_list (from tensorflow.python.feature_column.feature_column_v2) is deprecated and will be removed in a future version.\n",
            "Instructions for updating:\n",
            "Use Keras preprocessing layers instead, either directly or via the `tf.keras.utils.FeatureSpace` utility. Each of `tf.feature_column.*` has a functional equivalent in `tf.keras.layers` for feature preprocessing when training a Keras model.\n",
            "WARNING:tensorflow:From <ipython-input-14-123539c67a16>:8: numeric_column (from tensorflow.python.feature_column.feature_column_v2) is deprecated and will be removed in a future version.\n",
            "Instructions for updating:\n",
            "Use Keras preprocessing layers instead, either directly or via the `tf.keras.utils.FeatureSpace` utility. Each of `tf.feature_column.*` has a functional equivalent in `tf.keras.layers` for feature preprocessing when training a Keras model.\n"
          ]
        },
        {
          "output_type": "stream",
          "name": "stdout",
          "text": [
            "[VocabularyListCategoricalColumn(key='sex', vocabulary_list=('male', 'female'), dtype=tf.string, default_value=-1, num_oov_buckets=0), VocabularyListCategoricalColumn(key='n_siblings_spouses', vocabulary_list=(1, 0, 3, 4, 2, 5, 8), dtype=tf.int64, default_value=-1, num_oov_buckets=0), VocabularyListCategoricalColumn(key='parch', vocabulary_list=(0, 1, 2, 5, 3, 4), dtype=tf.int64, default_value=-1, num_oov_buckets=0), VocabularyListCategoricalColumn(key='class', vocabulary_list=('Third', 'First', 'Second'), dtype=tf.string, default_value=-1, num_oov_buckets=0), VocabularyListCategoricalColumn(key='deck', vocabulary_list=('unknown', 'C', 'G', 'A', 'B', 'D', 'F', 'E'), dtype=tf.string, default_value=-1, num_oov_buckets=0), VocabularyListCategoricalColumn(key='embark_town', vocabulary_list=('Southampton', 'Cherbourg', 'Queenstown', 'unknown'), dtype=tf.string, default_value=-1, num_oov_buckets=0), VocabularyListCategoricalColumn(key='alone', vocabulary_list=('n', 'y'), dtype=tf.string, default_value=-1, num_oov_buckets=0), NumericColumn(key='age', shape=(1,), default_value=None, dtype=tf.float32, normalizer_fn=None), NumericColumn(key='fare', shape=(1,), default_value=None, dtype=tf.float32, normalizer_fn=None)]\n"
          ]
        }
      ]
    },
    {
      "cell_type": "markdown",
      "source": [
        "\n",
        "\n",
        "---\n",
        "\n",
        "\n",
        "Explaination of code:\n",
        "<br>\n",
        "<br>\n",
        "Code:\n",
        "\n",
        "`  feature_columns.append(tf.feature_column.categorical_column_with_vocabulary_list(feature_name, vocabulary))`\n",
        "<br>\n",
        "<br>\n",
        "Explaination:\n",
        "`tf.feature_column.categorical_column_with_vocabulary_list(feature_name, vocabulary)` tells TensorFlow that there is a specific column in your data with categorical values. You specify the unique entries (e.g., [\"red\", \"blue\", \"yellow\"]), and TensorFlow will handle the processing of this categorical data for training and inference purposes.\n",
        "\n",
        "---\n",
        "\n"
      ],
      "metadata": {
        "id": "cPAXgrxdPNeP"
      }
    },
    {
      "cell_type": "code",
      "source": [
        "df_train[feature_name].unique()"
      ],
      "metadata": {
        "colab": {
          "base_uri": "https://localhost:8080/"
        },
        "id": "HRgLW3U6Mv15",
        "outputId": "fec26c4e-fd9c-4861-f5ad-56cc7ac30700"
      },
      "execution_count": 15,
      "outputs": [
        {
          "output_type": "execute_result",
          "data": {
            "text/plain": [
              "array([  7.25  ,  71.2833,   7.925 ,  53.1   ,   8.4583,  21.075 ,\n",
              "        11.1333,  30.0708,  16.7   ,   8.05  ,  31.275 ,   7.8542,\n",
              "        29.125 ,  13.    ,  18.    ,   7.225 ,  26.    ,  35.5   ,\n",
              "        31.3875, 263.    ,   7.8792,   7.8958,  27.7208, 146.5208,\n",
              "         7.75  ,  10.5   ,  82.1708,  52.    ,   7.2292,  11.2417,\n",
              "         9.475 ,  21.    ,  41.5792,  15.5   ,  21.6792,  17.8   ,\n",
              "        39.6875,  76.7292,  61.9792,  46.9   ,  80.    ,  83.475 ,\n",
              "        27.9   ,  15.2458,   8.1583,   8.6625,  73.5   ,  56.4958,\n",
              "         7.65  ,  29.    ,  12.475 ,   9.    ,   9.5   ,   7.7875,\n",
              "        47.1   ,  34.375 ,  61.175 ,  34.6542,  63.3583,  23.    ,\n",
              "        77.2875,   8.6542,   7.775 ,  24.15  ,  14.4542,  14.4583,\n",
              "       247.5208,   7.1417,   6.975 ,   7.05  ,  14.5   ,  15.0458,\n",
              "        26.2833,   9.2167,  79.2   ,   6.75  ,  11.5   ,  12.525 ,\n",
              "         7.3125,  61.3792,   7.7333,  69.55  ,  16.1   ,  55.    ,\n",
              "        25.4667,  28.7125,   0.    ,  15.05  ,  22.025 ,  26.55  ,\n",
              "         6.4958,  10.4625,  15.85  ,  18.7875,  31.    , 113.275 ,\n",
              "        27.    ,   9.35  ,  13.5   ,   7.55  ,  12.275 ,   7.125 ,\n",
              "        90.    ,  20.2125, 512.3292, 153.4625, 135.6333,  19.5   ,\n",
              "        29.7   ,  77.9583,  20.25  ,  78.85  ,  12.875 ,  30.5   ,\n",
              "        12.35  , 110.8833, 108.9   ,  24.    ,  56.9292,  83.1583,\n",
              "       262.375 ,  26.25  , 164.8667, 134.5   ,   6.2375,  20.525 ,\n",
              "        23.25  , 133.65  ,  66.6   ,  75.25  ,  69.3   , 211.5   ,\n",
              "       227.525 ,   7.7292,  12.    , 120.    ,   7.7958,  18.75  ,\n",
              "         6.8583,  32.5   ,  55.9   ,   8.1125,  19.2583,  27.75  ,\n",
              "        89.1042,  51.8625,  38.5   ,   7.725 ,  13.7917,   7.0458,\n",
              "        12.2875,   9.5875,  91.0792,  15.9   ,  19.9667,  49.5042,\n",
              "       151.55  ,  59.4   ,   7.4958,  34.0208,  93.5   ,  57.9792,\n",
              "       221.7792,  22.3583, 106.425 ,  49.5   ,  71.    ,  13.8625,\n",
              "         7.8292,  39.6   ,  79.65  ,  17.4   ,  51.4792,  26.3875,\n",
              "        30.    ,  40.125 ,  15.    ,  78.2667,  33.    ,  15.55  ,\n",
              "        65.    ,  14.4   ,  15.7417,  32.3208,   7.0542,   8.4333,\n",
              "        25.5875,  39.    ,   9.8417,   9.225 ,  10.1708, 211.3375,\n",
              "        57.    ,  13.4167,  26.2875,   7.7417,   9.4833,   8.3625,\n",
              "        23.45  ,  20.575 ,  30.6958,  25.9292,   8.6833,   7.8875,\n",
              "        37.0042,   6.95  ,   8.3   ,   6.4375,  39.4   ,  14.1083,\n",
              "        13.8583,  50.4958,  52.5542,   5.    ,   9.8458,  10.5167])"
            ]
          },
          "metadata": {},
          "execution_count": 15
        }
      ]
    },
    {
      "cell_type": "markdown",
      "source": [
        "## Setting Up the pre-requisits for the Model:\n",
        "\n"
      ],
      "metadata": {
        "id": "tMaAcMjmqUMn"
      }
    },
    {
      "cell_type": "markdown",
      "source": [
        "### The Training Process\n",
        "\n",
        "While training a model we don't give all the data at once to the model we give the data in ***small batches*** to the ML Model. We feed these batches to our model multiple times according to the number of ***epochs***.\n",
        "<br>\n",
        "<br>\n",
        "An ***epoch*** is one stream of our dataset that is fed to the model. Number of ***epochs*** is the amount of time our model will see the same data.\n",
        "<br>\n",
        "<br>\n",
        "Ex: If we have 10 ***epochs***, our model will see the same dataset 10 times.\n",
        "<br>\n",
        "<br>\n",
        "As we need to feed data in batches and multiple times, we need to create an ***input function***. The function simply defines how our dataset will be converted into batches at each ***epoch***."
      ],
      "metadata": {
        "id": "UBEQJsN7qyJt"
      }
    },
    {
      "cell_type": "markdown",
      "source": [
        "### Input Function\n",
        "\n",
        "The TensorFlow Model we are going to use requires that, the data we pass it, comes in as `tf.data.dataset` object. This means we must create a ***input function*** that can convert our pandas dataframe into `tf.data.dataset` object efficiently."
      ],
      "metadata": {
        "id": "qImT_e6qs9XY"
      }
    },
    {
      "cell_type": "code",
      "source": [
        "# Function to create an input function for the TensorFlow model\n",
        "def make_input_fn(data_df, label_df, num_epochs=10, shuffle=True, batch_size=32):\n",
        "    # Inner function to be returned\n",
        "    def input_function():\n",
        "        # Convert the input data (data_df) and labels (label_df) into a TensorFlow Dataset\n",
        "        ds = tf.data.Dataset.from_tensor_slices((dict(data_df), label_df))\n",
        "\n",
        "        # Shuffle the dataset if specified\n",
        "        if shuffle:\n",
        "            ds = ds.shuffle(buffer_size=1000)\n",
        "\n",
        "        # Batch and repeat the dataset\n",
        "        ds = ds.batch(batch_size).repeat(num_epochs)\n",
        "\n",
        "        # Return the prepared dataset\n",
        "        return ds\n",
        "\n",
        "    # Return the input function\n",
        "    return input_function"
      ],
      "metadata": {
        "id": "Vt_Wg4hqt4FL"
      },
      "execution_count": 16,
      "outputs": []
    },
    {
      "cell_type": "code",
      "source": [
        "# Create the input function for training data\n",
        "train_input_fn = make_input_fn(df_train, y_train)\n",
        "\n",
        "# Create the input function for testing data\n",
        "test_input_fn = make_input_fn(df_test, y_test, num_epochs=1, shuffle=False)"
      ],
      "metadata": {
        "id": "A5OfJkTKyFvu"
      },
      "execution_count": 17,
      "outputs": []
    },
    {
      "cell_type": "markdown",
      "source": [
        "### Creating the Model\n",
        "\n",
        "We are going to use a linear estimator to utilize the linear regression algorithm."
      ],
      "metadata": {
        "id": "QAWfViH8y1bw"
      }
    },
    {
      "cell_type": "code",
      "source": [
        "linear_est = tf.estimator.LinearClassifier(feature_columns = feature_columns)\n",
        "# We create a linear estimtor by passing the feature columns we created earlier named as \"feature_columns\""
      ],
      "metadata": {
        "colab": {
          "base_uri": "https://localhost:8080/"
        },
        "id": "qWvHlDJAzBoI",
        "outputId": "28e48e02-7a53-4646-ac63-7707edb7d2ae"
      },
      "execution_count": 18,
      "outputs": [
        {
          "output_type": "stream",
          "name": "stderr",
          "text": [
            "WARNING:tensorflow:From <ipython-input-18-8d199ddfe162>:1: LinearClassifierV2.__init__ (from tensorflow_estimator.python.estimator.canned.linear) is deprecated and will be removed in a future version.\n",
            "Instructions for updating:\n",
            "Use tf.keras instead.\n",
            "WARNING:tensorflow:From /usr/local/lib/python3.10/dist-packages/tensorflow_estimator/python/estimator/head/head_utils.py:54: BinaryClassHead.__init__ (from tensorflow_estimator.python.estimator.head.binary_class_head) is deprecated and will be removed in a future version.\n",
            "Instructions for updating:\n",
            "Use tf.keras instead.\n",
            "WARNING:tensorflow:From /usr/local/lib/python3.10/dist-packages/tensorflow_estimator/python/estimator/canned/linear.py:944: Estimator.__init__ (from tensorflow_estimator.python.estimator.estimator) is deprecated and will be removed in a future version.\n",
            "Instructions for updating:\n",
            "Use tf.keras instead.\n",
            "WARNING:tensorflow:From /usr/local/lib/python3.10/dist-packages/tensorflow_estimator/python/estimator/estimator.py:1844: RunConfig.__init__ (from tensorflow_estimator.python.estimator.run_config) is deprecated and will be removed in a future version.\n",
            "Instructions for updating:\n",
            "Use tf.keras instead.\n",
            "WARNING:tensorflow:Using temporary folder as model directory: /tmp/tmpf1nqn7wy\n"
          ]
        }
      ]
    },
    {
      "cell_type": "markdown",
      "source": [
        "### Training the Model\n",
        "\n",
        "Training the model is just passing the input function, that we created earlier."
      ],
      "metadata": {
        "id": "Wc4romWJz6Xl"
      }
    },
    {
      "cell_type": "code",
      "source": [
        "import math\n",
        "\n",
        "linear_est.train(train_input_fn) # training the model, by giving the `tf.data.dataset` object to the model\n",
        "result = linear_est.evaluate(test_input_fn) # get the model statistics by testing it over the testing dataset\n",
        "\n",
        "# 'result' is just a statistical dictionary of the linear_estimator's output.\n",
        "clear_output() # clears the output of the cell\n",
        "\n",
        "acc = result['accuracy']\n",
        "acc_percentage = math.trunc(float(acc) * 100)\n",
        "print(f\"Accuracy: {acc}\")\n",
        "print(f\"Accuracy in percentage: {acc_percentage}%\")\n",
        "\n",
        "print(\"==\" * 10)\n",
        "\n",
        "print(\"Displaying contents of the 'result' dictionary: \")\n",
        "x = 1\n",
        "for keys , values in result.items():\n",
        "    print(x, end=\".\")\n",
        "    x=x+1\n",
        "    print(keys, end=\": \")\n",
        "    print(values)"
      ],
      "metadata": {
        "colab": {
          "base_uri": "https://localhost:8080/"
        },
        "id": "zYSCI_NC0Hy7",
        "outputId": "f5c46920-2682-4cd8-9283-b6f6520ab6a8"
      },
      "execution_count": 19,
      "outputs": [
        {
          "output_type": "stream",
          "name": "stdout",
          "text": [
            "Accuracy: 0.7196969985961914\n",
            "Accuracy in percentage: 71%\n",
            "====================\n",
            "Displaying contents of the 'result' dictionary: \n",
            "1.accuracy: 0.719697\n",
            "2.accuracy_baseline: 0.625\n",
            "3.auc: 0.81251913\n",
            "4.auc_precision_recall: 0.754527\n",
            "5.average_loss: 0.64135563\n",
            "6.label/mean: 0.375\n",
            "7.loss: 0.64547724\n",
            "8.precision: 0.5912409\n",
            "9.prediction/mean: 0.5627584\n",
            "10.recall: 0.8181818\n",
            "11.global_step: 200\n"
          ]
        }
      ]
    },
    {
      "cell_type": "markdown",
      "source": [
        "### Predicting the output of the Model:"
      ],
      "metadata": {
        "id": "pViE2a3b54g1"
      }
    },
    {
      "cell_type": "code",
      "source": [
        "pred_dicts = list(linear_est.predict(test_input_fn))\n",
        "probs = pd.Series([pred['probabilities'][1] for pred in pred_dicts])\n",
        "\n",
        "probs.plot(kind='hist', bins=20, title='predicted probabilities')"
      ],
      "metadata": {
        "colab": {
          "base_uri": "https://localhost:8080/",
          "height": 646
        },
        "id": "GSZ4mEay9Caz",
        "outputId": "d32cc0ac-6cd7-4d73-e6ce-2cc2d3b5545d"
      },
      "execution_count": 20,
      "outputs": [
        {
          "output_type": "stream",
          "name": "stderr",
          "text": [
            "WARNING:tensorflow:From /usr/local/lib/python3.10/dist-packages/tensorflow_estimator/python/estimator/head/base_head.py:786: ClassificationOutput.__init__ (from tensorflow.python.saved_model.model_utils.export_output) is deprecated and will be removed in a future version.\n",
            "Instructions for updating:\n",
            "Use tf.keras instead.\n",
            "WARNING:tensorflow:From /usr/local/lib/python3.10/dist-packages/tensorflow_estimator/python/estimator/head/binary_class_head.py:561: RegressionOutput.__init__ (from tensorflow.python.saved_model.model_utils.export_output) is deprecated and will be removed in a future version.\n",
            "Instructions for updating:\n",
            "Use tf.keras instead.\n",
            "WARNING:tensorflow:From /usr/local/lib/python3.10/dist-packages/tensorflow_estimator/python/estimator/head/binary_class_head.py:563: PredictOutput.__init__ (from tensorflow.python.saved_model.model_utils.export_output) is deprecated and will be removed in a future version.\n",
            "Instructions for updating:\n",
            "Use tf.keras instead.\n"
          ]
        },
        {
          "output_type": "execute_result",
          "data": {
            "text/plain": [
              "<Axes: title={'center': 'predicted probabilities'}, ylabel='Frequency'>"
            ]
          },
          "metadata": {},
          "execution_count": 20
        },
        {
          "output_type": "display_data",
          "data": {
            "text/plain": [
              "<Figure size 640x480 with 1 Axes>"
            ],
            "image/png": "[encoded data removed]"
          },
          "metadata": {}
        }
      ]
    },
    {
      "cell_type": "code",
      "source": [
        "result = list(linear_est.predict(test_input_fn))\n",
        "clear_output()\n",
        "\n",
        "index_of_person = int(input(\"Enter index to check a person's survival rate: \"))\n",
        "print(df_test.loc[index_of_person])\n",
        "\n",
        "print(\"==\"*10)\n",
        "\n",
        "prob = result[index_of_person]['probabilities'][1]\n",
        "prob_percentage = math.trunc(float(prob) * 100)\n",
        "acc_result = y_test.loc[index_of_person]\n",
        "\n",
        "print(f\"Survival rate of this person is: {prob_percentage}%\")\n",
        "print(f\"Actual result of their survival: {y_test.loc[index_of_person]}\")\n",
        "\n",
        "if acc_result == 0:\n",
        "  print(\"This person did not survive.\")\n",
        "else:\n",
        "  print(\"This person did survive.\")\n",
        "\n",
        "# 0 = not survived, 1 = survived."
      ],
      "metadata": {
        "colab": {
          "base_uri": "https://localhost:8080/"
        },
        "id": "xwW4OzRB59_g",
        "outputId": "6d76d396-1c47-4a02-8bb2-acc0795834ca"
      },
      "execution_count": 22,
      "outputs": [
        {
          "output_type": "stream",
          "name": "stdout",
          "text": [
            "Enter index to check a person's survival rate: 189\n",
            "sex                          male\n",
            "age                          23.0\n",
            "n_siblings_spouses              0\n",
            "parch                           0\n",
            "fare                         13.0\n",
            "class                      Second\n",
            "deck                      unknown\n",
            "embark_town           Southampton\n",
            "alone                           y\n",
            "Name: 189, dtype: object\n",
            "====================\n",
            "Survival rate of this person is: 38%\n",
            "Actual result of their survival: 0\n",
            "This person did not survive.\n"
          ]
        }
      ]
    }
  ]
}